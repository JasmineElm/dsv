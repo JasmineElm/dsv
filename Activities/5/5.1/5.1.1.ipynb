{
 "cells": [
  {
   "cell_type": "code",
   "execution_count": 19,
   "metadata": {},
   "outputs": [],
   "source": [
    "import pandas as pd         # Import and maniuplate our csv files\n",
    "import scipy.stats as stats # Perform statistical tests\n"
   ]
  },
  {
   "cell_type": "code",
   "execution_count": 20,
   "metadata": {},
   "outputs": [],
   "source": [
    "# Simple function to display the significance of the t-test\n",
    "\n",
    "def test_results(p_val, t_stat):\n",
    "    \"\"\"Print whether the test is significant or not,\n",
    "       whether the t-statistic is positive or negative, and\n",
    "       if the t_stat is > 2 or < -2\n",
    "    \"\"\"\n",
    "    significance = \"significant\" if p_val < 0.05 else \"not significant\"\n",
    "    mean_comparison = \"greater\" if t_stat > 0 else \"less\"\n",
    "    t_stat_significance = \"significant\" if abs(t_stat) > 2 else \"not significant\"\n",
    "    \n",
    "    out_str = (\n",
    "        f\"P-value: {p_val}\\n\"\n",
    "        f\"T-statistic: {t_stat}\\n\"\n",
    "        f\"The test is {significance}.\\n\"\n",
    "        f\"The sample mean is {mean_comparison} than the population mean.\\n\"\n",
    "        f\"The t-statistic is {t_stat_significance}.\"\n",
    "    )\n",
    "    \n",
    "    print(out_str)"
   ]
  },
  {
   "cell_type": "code",
   "execution_count": 21,
   "metadata": {},
   "outputs": [
    {
     "data": {
      "text/html": [
       "<div>\n",
       "<style scoped>\n",
       "    .dataframe tbody tr th:only-of-type {\n",
       "        vertical-align: middle;\n",
       "    }\n",
       "\n",
       "    .dataframe tbody tr th {\n",
       "        vertical-align: top;\n",
       "    }\n",
       "\n",
       "    .dataframe thead th {\n",
       "        text-align: right;\n",
       "    }\n",
       "</style>\n",
       "<table border=\"1\" class=\"dataframe\">\n",
       "  <thead>\n",
       "    <tr style=\"text-align: right;\">\n",
       "      <th></th>\n",
       "      <th>value1</th>\n",
       "      <th>value2</th>\n",
       "    </tr>\n",
       "  </thead>\n",
       "  <tbody>\n",
       "    <tr>\n",
       "      <th>0</th>\n",
       "      <td>1.764052</td>\n",
       "      <td>2.383151</td>\n",
       "    </tr>\n",
       "    <tr>\n",
       "      <th>1</th>\n",
       "      <td>0.400157</td>\n",
       "      <td>-0.847759</td>\n",
       "    </tr>\n",
       "    <tr>\n",
       "      <th>2</th>\n",
       "      <td>0.978738</td>\n",
       "      <td>-0.770485</td>\n",
       "    </tr>\n",
       "    <tr>\n",
       "      <th>3</th>\n",
       "      <td>2.240893</td>\n",
       "      <td>1.469397</td>\n",
       "    </tr>\n",
       "    <tr>\n",
       "      <th>4</th>\n",
       "      <td>1.867558</td>\n",
       "      <td>-0.673123</td>\n",
       "    </tr>\n",
       "  </tbody>\n",
       "</table>\n",
       "</div>"
      ],
      "text/plain": [
       "     value1    value2\n",
       "0  1.764052  2.383151\n",
       "1  0.400157 -0.847759\n",
       "2  0.978738 -0.770485\n",
       "3  2.240893  1.469397\n",
       "4  1.867558 -0.673123"
      ]
     },
     "execution_count": 21,
     "metadata": {},
     "output_type": "execute_result"
    }
   ],
   "source": [
    "# Load the data\n",
    "data = pd.read_csv(\"data.csv\")\n",
    "data.head()\n"
   ]
  },
  {
   "cell_type": "markdown",
   "metadata": {},
   "source": [
    "# One-Sample T-Test\n",
    "\n",
    "A one-sample t-test is used to determine whether a sample mean is statistically different from a known or hypothesized population mean. The population mean is known as the null hypothesis. The null hypothesis is that the sample mean is equal to the population mean. The alternative hypothesis is that the sample mean is different from the population mean."
   ]
  },
  {
   "cell_type": "code",
   "execution_count": 22,
   "metadata": {},
   "outputs": [
    {
     "data": {
      "text/plain": [
       "0.5820129707478374"
      ]
     },
     "execution_count": 22,
     "metadata": {},
     "output_type": "execute_result"
    }
   ],
   "source": [
    "# calculate the mean of value2\n",
    "# we'll use this for our \"one-sample\" t-test\n",
    "mean_value2 = data['value2'].mean()\n",
    "mean_value2"
   ]
  },
  {
   "cell_type": "code",
   "execution_count": 23,
   "metadata": {},
   "outputs": [
    {
     "name": "stdout",
     "output_type": "stream",
     "text": [
      "P-value: 1.2984708779004685e-06\n",
      "T-statistic: -5.155238846163232\n",
      "The test is significant.\n",
      "The sample mean is less than the population mean.\n",
      "The t-statistic is significant.\n"
     ]
    }
   ],
   "source": [
    "# perform the test, using our `mean_data2` as the population mean\n",
    "t_statistic, p_value = stats.ttest_1samp(data['value1'], mean_value2)\n",
    "# calculate the degrees of freedom\n",
    "df = len(data['value1']) - 1\n",
    "\n",
    "test_results(p_value, t_statistic)"
   ]
  },
  {
   "cell_type": "markdown",
   "metadata": {},
   "source": [
    "## Independent T-Test\n",
    "\n",
    "An independent t-test is used to determine whether there is a statistically significant difference between the means of two independent groups. The null hypothesis is that the means of the two groups are equal. The alternative hypothesis is that the means of the two groups are different."
   ]
  },
  {
   "cell_type": "code",
   "execution_count": 26,
   "metadata": {},
   "outputs": [
    {
     "name": "stdout",
     "output_type": "stream",
     "text": [
      "P-value: 0.00040627960203625224\n",
      "T-statistic: -3.597192759749613\n",
      "The test is significant.\n",
      "The sample mean is less than the population mean.\n",
      "The t-statistic is significant.\n"
     ]
    }
   ],
   "source": [
    "# perform the t-test\n",
    "t_stat, p_val = stats.ttest_ind(data['value1'], data['value2'])\n",
    "test_results(p_val, t_stat)\n"
   ]
  },
  {
   "cell_type": "markdown",
   "metadata": {},
   "source": [
    "## Paired Samples T-Test\n",
    "\n",
    "A paired samples t-test is used to determine whether there is a statistically significant difference between the means of two related groups. The null hypothesis is that the means of the two groups are equal. The alternative hypothesis is that the means of the two groups are different."
   ]
  },
  {
   "cell_type": "code",
   "execution_count": 27,
   "metadata": {},
   "outputs": [
    {
     "name": "stdout",
     "output_type": "stream",
     "text": [
      "P-value: 0.00023576268939936413\n",
      "T-statistic: -3.816643761053478\n",
      "The test is significant.\n",
      "The sample mean is less than the population mean.\n",
      "The t-statistic is significant.\n"
     ]
    }
   ],
   "source": [
    "# perform the t-test\n",
    "t_stat, p_val = stats.ttest_rel(data['value1'], data['value2'])\n",
    "test_results(p_val, t_stat)"
   ]
  }
 ],
 "metadata": {
  "kernelspec": {
   "display_name": "Python 3",
   "language": "python",
   "name": "python3"
  },
  "language_info": {
   "codemirror_mode": {
    "name": "ipython",
    "version": 3
   },
   "file_extension": ".py",
   "mimetype": "text/x-python",
   "name": "python",
   "nbconvert_exporter": "python",
   "pygments_lexer": "ipython3",
   "version": "3.11.9"
  }
 },
 "nbformat": 4,
 "nbformat_minor": 2
}
